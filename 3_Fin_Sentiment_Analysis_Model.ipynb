{
 "cells": [
  {
   "cell_type": "code",
   "execution_count": 1,
   "id": "f0152527",
   "metadata": {
    "_cell_guid": "b1076dfc-b9ad-4769-8c92-a6c4dae69d19",
    "_uuid": "8f2839f25d086af736a60e9eeb907d3b93b6e0e5",
    "execution": {
     "iopub.execute_input": "2021-08-25T07:34:37.229319Z",
     "iopub.status.busy": "2021-08-25T07:34:37.227802Z",
     "iopub.status.idle": "2021-08-25T07:34:43.469076Z",
     "shell.execute_reply": "2021-08-25T07:34:43.468080Z",
     "shell.execute_reply.started": "2021-08-25T07:05:20.270425Z"
    },
    "papermill": {
     "duration": 6.259372,
     "end_time": "2021-08-25T07:34:43.469231",
     "exception": false,
     "start_time": "2021-08-25T07:34:37.209859",
     "status": "completed"
    },
    "tags": []
   },
   "outputs": [],
   "source": [
    "from transformers import TFAutoModel"
   ]
  },
  {
   "cell_type": "code",
   "execution_count": 2,
   "id": "6b2b0428",
   "metadata": {
    "execution": {
     "iopub.execute_input": "2021-08-25T07:34:43.498988Z",
     "iopub.status.busy": "2021-08-25T07:34:43.498161Z",
     "iopub.status.idle": "2021-08-25T07:35:05.350551Z",
     "shell.execute_reply": "2021-08-25T07:35:05.349876Z",
     "shell.execute_reply.started": "2021-08-25T07:05:26.314556Z"
    },
    "papermill": {
     "duration": 21.868438,
     "end_time": "2021-08-25T07:35:05.350727",
     "exception": false,
     "start_time": "2021-08-25T07:34:43.482289",
     "status": "completed"
    },
    "tags": []
   },
   "outputs": [
    {
     "data": {
      "application/vnd.jupyter.widget-view+json": {
       "model_id": "961b350441b5454fbdd3672ffffb7ca7",
       "version_major": 2,
       "version_minor": 0
      },
      "text/plain": [
       "Downloading:   0%|          | 0.00/570 [00:00<?, ?B/s]"
      ]
     },
     "metadata": {},
     "output_type": "display_data"
    },
    {
     "data": {
      "application/vnd.jupyter.widget-view+json": {
       "model_id": "bb68d079ae78459789aa6d3b5dc6e25d",
       "version_major": 2,
       "version_minor": 0
      },
      "text/plain": [
       "Downloading:   0%|          | 0.00/527M [00:00<?, ?B/s]"
      ]
     },
     "metadata": {},
     "output_type": "display_data"
    },
    {
     "name": "stderr",
     "output_type": "stream",
     "text": [
      "Some layers from the model checkpoint at bert-base-cased were not used when initializing TFBertModel: ['mlm___cls', 'nsp___cls']\n",
      "- This IS expected if you are initializing TFBertModel from the checkpoint of a model trained on another task or with another architecture (e.g. initializing a BertForSequenceClassification model from a BertForPreTraining model).\n",
      "- This IS NOT expected if you are initializing TFBertModel from the checkpoint of a model that you expect to be exactly identical (initializing a BertForSequenceClassification model from a BertForSequenceClassification model).\n",
      "All the layers of TFBertModel were initialized from the model checkpoint at bert-base-cased.\n",
      "If your task is similar to the task the model of the checkpoint was trained on, you can already use TFBertModel for predictions without further training.\n"
     ]
    }
   ],
   "source": [
    "bert = TFAutoModel.from_pretrained(\"bert-base-cased\")"
   ]
  },
  {
   "cell_type": "code",
   "execution_count": 3,
   "id": "372cae4a",
   "metadata": {
    "execution": {
     "iopub.execute_input": "2021-08-25T07:35:05.398171Z",
     "iopub.status.busy": "2021-08-25T07:35:05.389352Z",
     "iopub.status.idle": "2021-08-25T07:35:05.402289Z",
     "shell.execute_reply": "2021-08-25T07:35:05.401605Z",
     "shell.execute_reply.started": "2021-08-25T07:06:02.204461Z"
    },
    "papermill": {
     "duration": 0.036322,
     "end_time": "2021-08-25T07:35:05.402428",
     "exception": false,
     "start_time": "2021-08-25T07:35:05.366106",
     "status": "completed"
    },
    "tags": []
   },
   "outputs": [
    {
     "name": "stdout",
     "output_type": "stream",
     "text": [
      "Model: \"tf_bert_model\"\n",
      "_________________________________________________________________\n",
      "Layer (type)                 Output Shape              Param #   \n",
      "=================================================================\n",
      "bert (TFBertMainLayer)       multiple                  108310272 \n",
      "=================================================================\n",
      "Total params: 108,310,272\n",
      "Trainable params: 108,310,272\n",
      "Non-trainable params: 0\n",
      "_________________________________________________________________\n"
     ]
    }
   ],
   "source": [
    "bert.summary()"
   ]
  },
  {
   "cell_type": "code",
   "execution_count": 4,
   "id": "f162f6ac",
   "metadata": {
    "execution": {
     "iopub.execute_input": "2021-08-25T07:35:05.435238Z",
     "iopub.status.busy": "2021-08-25T07:35:05.434750Z",
     "iopub.status.idle": "2021-08-25T07:35:05.438035Z",
     "shell.execute_reply": "2021-08-25T07:35:05.438452Z",
     "shell.execute_reply.started": "2021-08-25T07:06:02.223044Z"
    },
    "papermill": {
     "duration": 0.02106,
     "end_time": "2021-08-25T07:35:05.438667",
     "exception": false,
     "start_time": "2021-08-25T07:35:05.417607",
     "status": "completed"
    },
    "tags": []
   },
   "outputs": [],
   "source": [
    "import tensorflow as tf"
   ]
  },
  {
   "cell_type": "code",
   "execution_count": 5,
   "id": "d47163cc",
   "metadata": {
    "execution": {
     "iopub.execute_input": "2021-08-25T07:35:05.471945Z",
     "iopub.status.busy": "2021-08-25T07:35:05.471365Z",
     "iopub.status.idle": "2021-08-25T07:35:05.477946Z",
     "shell.execute_reply": "2021-08-25T07:35:05.477488Z",
     "shell.execute_reply.started": "2021-08-25T07:06:04.249203Z"
    },
    "papermill": {
     "duration": 0.025115,
     "end_time": "2021-08-25T07:35:05.478054",
     "exception": false,
     "start_time": "2021-08-25T07:35:05.452939",
     "status": "completed"
    },
    "tags": []
   },
   "outputs": [],
   "source": [
    "input_ids = tf.keras.layers.Input(shape=(512,), name = \"input_ids\", dtype=\"int32\")\n",
    "mask = tf.keras.layers.Input(shape=(512,), name = \"attention_mask\", dtype=\"int32\")"
   ]
  },
  {
   "cell_type": "code",
   "execution_count": 6,
   "id": "c2184c72",
   "metadata": {
    "execution": {
     "iopub.execute_input": "2021-08-25T07:35:05.511629Z",
     "iopub.status.busy": "2021-08-25T07:35:05.510761Z",
     "iopub.status.idle": "2021-08-25T07:35:09.513973Z",
     "shell.execute_reply": "2021-08-25T07:35:09.513506Z",
     "shell.execute_reply.started": "2021-08-25T07:06:04.260377Z"
    },
    "papermill": {
     "duration": 4.021385,
     "end_time": "2021-08-25T07:35:09.514098",
     "exception": false,
     "start_time": "2021-08-25T07:35:05.492713",
     "status": "completed"
    },
    "tags": []
   },
   "outputs": [],
   "source": [
    "embeddings = bert.bert(input_ids, attention_mask = mask)[1]  # Extract max pooled activations"
   ]
  },
  {
   "cell_type": "code",
   "execution_count": 7,
   "id": "35c40283",
   "metadata": {
    "execution": {
     "iopub.execute_input": "2021-08-25T07:35:09.550982Z",
     "iopub.status.busy": "2021-08-25T07:35:09.550129Z",
     "iopub.status.idle": "2021-08-25T07:35:09.563740Z",
     "shell.execute_reply": "2021-08-25T07:35:09.563277Z",
     "shell.execute_reply.started": "2021-08-25T07:06:08.455846Z"
    },
    "papermill": {
     "duration": 0.034939,
     "end_time": "2021-08-25T07:35:09.563852",
     "exception": false,
     "start_time": "2021-08-25T07:35:09.528913",
     "status": "completed"
    },
    "tags": []
   },
   "outputs": [],
   "source": [
    "a = tf.keras.layers.Dense(512, activation=\"relu\")(embeddings)\n",
    "b = tf.keras.layers.Dense(3, activation=\"softmax\", name=\"outputs\")(a)"
   ]
  },
  {
   "cell_type": "code",
   "execution_count": 8,
   "id": "a1aa77cc",
   "metadata": {
    "execution": {
     "iopub.execute_input": "2021-08-25T07:35:09.613132Z",
     "iopub.status.busy": "2021-08-25T07:35:09.612284Z",
     "iopub.status.idle": "2021-08-25T07:35:09.616950Z",
     "shell.execute_reply": "2021-08-25T07:35:09.616530Z",
     "shell.execute_reply.started": "2021-08-25T07:06:08.481169Z"
    },
    "papermill": {
     "duration": 0.03881,
     "end_time": "2021-08-25T07:35:09.617065",
     "exception": false,
     "start_time": "2021-08-25T07:35:09.578255",
     "status": "completed"
    },
    "tags": []
   },
   "outputs": [],
   "source": [
    "model = tf.keras.Model(inputs = [input_ids, mask], outputs=b)"
   ]
  },
  {
   "cell_type": "code",
   "execution_count": 9,
   "id": "372056e1",
   "metadata": {
    "execution": {
     "iopub.execute_input": "2021-08-25T07:35:09.655091Z",
     "iopub.status.busy": "2021-08-25T07:35:09.654262Z",
     "iopub.status.idle": "2021-08-25T07:35:09.665643Z",
     "shell.execute_reply": "2021-08-25T07:35:09.666287Z",
     "shell.execute_reply.started": "2021-08-25T07:06:08.508191Z"
    },
    "papermill": {
     "duration": 0.034837,
     "end_time": "2021-08-25T07:35:09.666437",
     "exception": false,
     "start_time": "2021-08-25T07:35:09.631600",
     "status": "completed"
    },
    "tags": []
   },
   "outputs": [
    {
     "name": "stdout",
     "output_type": "stream",
     "text": [
      "Model: \"model\"\n",
      "__________________________________________________________________________________________________\n",
      "Layer (type)                    Output Shape         Param #     Connected to                     \n",
      "==================================================================================================\n",
      "input_ids (InputLayer)          [(None, 512)]        0                                            \n",
      "__________________________________________________________________________________________________\n",
      "attention_mask (InputLayer)     [(None, 512)]        0                                            \n",
      "__________________________________________________________________________________________________\n",
      "bert (TFBertMainLayer)          TFBaseModelOutputWit 108310272   input_ids[0][0]                  \n",
      "                                                                 attention_mask[0][0]             \n",
      "__________________________________________________________________________________________________\n",
      "dense (Dense)                   (None, 512)          393728      bert[0][1]                       \n",
      "__________________________________________________________________________________________________\n",
      "outputs (Dense)                 (None, 3)            1539        dense[0][0]                      \n",
      "==================================================================================================\n",
      "Total params: 108,705,539\n",
      "Trainable params: 108,705,539\n",
      "Non-trainable params: 0\n",
      "__________________________________________________________________________________________________\n"
     ]
    }
   ],
   "source": [
    "model.summary()"
   ]
  },
  {
   "cell_type": "code",
   "execution_count": 10,
   "id": "60eee3fa",
   "metadata": {
    "execution": {
     "iopub.execute_input": "2021-08-25T07:35:09.705761Z",
     "iopub.status.busy": "2021-08-25T07:35:09.705020Z",
     "iopub.status.idle": "2021-08-25T07:35:09.707693Z",
     "shell.execute_reply": "2021-08-25T07:35:09.707233Z",
     "shell.execute_reply.started": "2021-08-25T07:06:08.533484Z"
    },
    "papermill": {
     "duration": 0.025832,
     "end_time": "2021-08-25T07:35:09.707801",
     "exception": false,
     "start_time": "2021-08-25T07:35:09.681969",
     "status": "completed"
    },
    "tags": []
   },
   "outputs": [],
   "source": [
    "model.layers[2].trainable = False"
   ]
  },
  {
   "cell_type": "code",
   "execution_count": 11,
   "id": "bad32d62",
   "metadata": {
    "execution": {
     "iopub.execute_input": "2021-08-25T07:35:09.739995Z",
     "iopub.status.busy": "2021-08-25T07:35:09.739204Z",
     "iopub.status.idle": "2021-08-25T07:35:09.754884Z",
     "shell.execute_reply": "2021-08-25T07:35:09.754403Z",
     "shell.execute_reply.started": "2021-08-25T07:06:08.548294Z"
    },
    "papermill": {
     "duration": 0.03293,
     "end_time": "2021-08-25T07:35:09.754986",
     "exception": false,
     "start_time": "2021-08-25T07:35:09.722056",
     "status": "completed"
    },
    "tags": []
   },
   "outputs": [
    {
     "name": "stdout",
     "output_type": "stream",
     "text": [
      "Model: \"model\"\n",
      "__________________________________________________________________________________________________\n",
      "Layer (type)                    Output Shape         Param #     Connected to                     \n",
      "==================================================================================================\n",
      "input_ids (InputLayer)          [(None, 512)]        0                                            \n",
      "__________________________________________________________________________________________________\n",
      "attention_mask (InputLayer)     [(None, 512)]        0                                            \n",
      "__________________________________________________________________________________________________\n",
      "bert (TFBertMainLayer)          TFBaseModelOutputWit 108310272   input_ids[0][0]                  \n",
      "                                                                 attention_mask[0][0]             \n",
      "__________________________________________________________________________________________________\n",
      "dense (Dense)                   (None, 512)          393728      bert[0][1]                       \n",
      "__________________________________________________________________________________________________\n",
      "outputs (Dense)                 (None, 3)            1539        dense[0][0]                      \n",
      "==================================================================================================\n",
      "Total params: 108,705,539\n",
      "Trainable params: 395,267\n",
      "Non-trainable params: 108,310,272\n",
      "__________________________________________________________________________________________________\n"
     ]
    }
   ],
   "source": [
    "model.summary()"
   ]
  },
  {
   "cell_type": "code",
   "execution_count": 12,
   "id": "d661a2b5",
   "metadata": {
    "execution": {
     "iopub.execute_input": "2021-08-25T07:35:09.793178Z",
     "iopub.status.busy": "2021-08-25T07:35:09.792452Z",
     "iopub.status.idle": "2021-08-25T07:35:10.002574Z",
     "shell.execute_reply": "2021-08-25T07:35:10.002089Z",
     "shell.execute_reply.started": "2021-08-25T07:06:08.571460Z"
    },
    "papermill": {
     "duration": 0.232079,
     "end_time": "2021-08-25T07:35:10.002709",
     "exception": false,
     "start_time": "2021-08-25T07:35:09.770630",
     "status": "completed"
    },
    "tags": []
   },
   "outputs": [],
   "source": [
    "optimizer = tf.keras.optimizers.Adam(lr=5e-5, decay=1e-6) # recommended values for bert\n",
    "loss = tf.keras.losses.CategoricalCrossentropy()\n",
    "acc = tf.keras.metrics.CategoricalAccuracy('accuracy')\n",
    "\n",
    "model.compile(optimizer=optimizer, loss=loss, metrics=[acc])"
   ]
  },
  {
   "cell_type": "code",
   "execution_count": 13,
   "id": "5db178c7",
   "metadata": {
    "execution": {
     "iopub.execute_input": "2021-08-25T07:35:10.037375Z",
     "iopub.status.busy": "2021-08-25T07:35:10.036772Z",
     "iopub.status.idle": "2021-08-25T07:35:10.051689Z",
     "shell.execute_reply": "2021-08-25T07:35:10.052370Z",
     "shell.execute_reply.started": "2021-08-25T07:06:08.799555Z"
    },
    "papermill": {
     "duration": 0.034863,
     "end_time": "2021-08-25T07:35:10.052578",
     "exception": false,
     "start_time": "2021-08-25T07:35:10.017715",
     "status": "completed"
    },
    "tags": []
   },
   "outputs": [
    {
     "name": "stdout",
     "output_type": "stream",
     "text": [
      "({'input_ids': TensorSpec(shape=(16, 512), dtype=tf.int64, name=None), 'attention_mask': TensorSpec(shape=(16, 512), dtype=tf.int64, name=None)}, TensorSpec(shape=(16, 3), dtype=tf.uint8, name=None))\n"
     ]
    }
   ],
   "source": [
    "with open(\"../input/sentiment-analysis-prep-2/element_spec.txt\", 'r') as f:\n",
    "    element_spec = f.read()\n",
    "print(element_spec)"
   ]
  },
  {
   "cell_type": "code",
   "execution_count": 14,
   "id": "68ca4599",
   "metadata": {
    "execution": {
     "iopub.execute_input": "2021-08-25T07:35:10.094079Z",
     "iopub.status.busy": "2021-08-25T07:35:10.093208Z",
     "iopub.status.idle": "2021-08-25T07:35:10.095814Z",
     "shell.execute_reply": "2021-08-25T07:35:10.096265Z",
     "shell.execute_reply.started": "2021-08-25T07:06:08.814643Z"
    },
    "papermill": {
     "duration": 0.025473,
     "end_time": "2021-08-25T07:35:10.096408",
     "exception": false,
     "start_time": "2021-08-25T07:35:10.070935",
     "status": "completed"
    },
    "tags": []
   },
   "outputs": [],
   "source": [
    "element_spec = ({'input_ids': tf.TensorSpec(shape=(16, 512), dtype=tf.int64, name=None), \n",
    "                 'attention_mask': tf.TensorSpec(shape=(16, 512), dtype=tf.int64, name=None)}, \n",
    "                  tf.TensorSpec(shape=(16, 3), dtype=tf.uint8, name=None))"
   ]
  },
  {
   "cell_type": "code",
   "execution_count": 15,
   "id": "14e0a9da",
   "metadata": {
    "execution": {
     "iopub.execute_input": "2021-08-25T07:35:10.135130Z",
     "iopub.status.busy": "2021-08-25T07:35:10.134343Z",
     "iopub.status.idle": "2021-08-25T07:35:10.193332Z",
     "shell.execute_reply": "2021-08-25T07:35:10.192879Z",
     "shell.execute_reply.started": "2021-08-25T07:06:08.822763Z"
    },
    "papermill": {
     "duration": 0.08032,
     "end_time": "2021-08-25T07:35:10.193449",
     "exception": false,
     "start_time": "2021-08-25T07:35:10.113129",
     "status": "completed"
    },
    "tags": []
   },
   "outputs": [],
   "source": [
    "train_ds = tf.data.experimental.load(\"../input/sentiment-analysis-prep-2/train\", element_spec=element_spec)\n",
    "val_ds = tf.data.experimental.load(\"../input/sentiment-analysis-prep-2/validation\", element_spec=element_spec)"
   ]
  },
  {
   "cell_type": "code",
   "execution_count": 16,
   "id": "ae4d6e79",
   "metadata": {
    "execution": {
     "iopub.execute_input": "2021-08-25T07:35:10.231023Z",
     "iopub.status.busy": "2021-08-25T07:35:10.229995Z",
     "iopub.status.idle": "2021-08-25T07:35:10.234641Z",
     "shell.execute_reply": "2021-08-25T07:35:10.234168Z",
     "shell.execute_reply.started": "2021-08-25T07:06:08.889055Z"
    },
    "papermill": {
     "duration": 0.02561,
     "end_time": "2021-08-25T07:35:10.234750",
     "exception": false,
     "start_time": "2021-08-25T07:35:10.209140",
     "status": "completed"
    },
    "tags": []
   },
   "outputs": [
    {
     "name": "stdout",
     "output_type": "stream",
     "text": [
      "<TakeDataset shapes: ({input_ids: (16, 512), attention_mask: (16, 512)}, (16, 3)), types: ({input_ids: tf.int64, attention_mask: tf.int64}, tf.uint8)>\n",
      "<TakeDataset shapes: ({input_ids: (16, 512), attention_mask: (16, 512)}, (16, 3)), types: ({input_ids: tf.int64, attention_mask: tf.int64}, tf.uint8)>\n"
     ]
    }
   ],
   "source": [
    "print(train_ds.take(1))\n",
    "print(val_ds.take(1))"
   ]
  },
  {
   "cell_type": "code",
   "execution_count": 17,
   "id": "a98aa0a2",
   "metadata": {
    "execution": {
     "iopub.execute_input": "2021-08-25T07:35:10.274321Z",
     "iopub.status.busy": "2021-08-25T07:35:10.273567Z",
     "iopub.status.idle": "2021-08-25T08:12:52.626736Z",
     "shell.execute_reply": "2021-08-25T08:12:52.627494Z",
     "shell.execute_reply.started": "2021-08-25T07:31:30.182478Z"
    },
    "papermill": {
     "duration": 2262.376432,
     "end_time": "2021-08-25T08:12:52.627710",
     "exception": false,
     "start_time": "2021-08-25T07:35:10.251278",
     "status": "completed"
    },
    "tags": []
   },
   "outputs": [
    {
     "name": "stdout",
     "output_type": "stream",
     "text": [
      "Epoch 1/20\n",
      "241/241 [==============================] - 121s 476ms/step - loss: 0.9197 - accuracy: 0.6035 - val_loss: 0.8590 - val_accuracy: 0.6045\n",
      "Epoch 2/20\n",
      "241/241 [==============================] - 113s 468ms/step - loss: 0.8808 - accuracy: 0.6087 - val_loss: 0.8349 - val_accuracy: 0.5994\n",
      "Epoch 3/20\n",
      "241/241 [==============================] - 113s 468ms/step - loss: 0.8538 - accuracy: 0.6136 - val_loss: 0.8086 - val_accuracy: 0.6209\n",
      "Epoch 4/20\n",
      "241/241 [==============================] - 113s 468ms/step - loss: 0.8322 - accuracy: 0.6221 - val_loss: 0.7889 - val_accuracy: 0.6383\n",
      "Epoch 5/20\n",
      "241/241 [==============================] - 113s 468ms/step - loss: 0.8172 - accuracy: 0.6280 - val_loss: 0.7743 - val_accuracy: 0.6455\n",
      "Epoch 6/20\n",
      "241/241 [==============================] - 113s 468ms/step - loss: 0.7992 - accuracy: 0.6452 - val_loss: 0.7616 - val_accuracy: 0.6393\n",
      "Epoch 7/20\n",
      "241/241 [==============================] - 113s 468ms/step - loss: 0.7826 - accuracy: 0.6479 - val_loss: 0.7460 - val_accuracy: 0.6568\n",
      "Epoch 8/20\n",
      "241/241 [==============================] - 113s 467ms/step - loss: 0.7737 - accuracy: 0.6509 - val_loss: 0.7348 - val_accuracy: 0.6629\n",
      "Epoch 9/20\n",
      "241/241 [==============================] - 113s 468ms/step - loss: 0.7620 - accuracy: 0.6629 - val_loss: 0.7256 - val_accuracy: 0.6680\n",
      "Epoch 10/20\n",
      "241/241 [==============================] - 113s 468ms/step - loss: 0.7512 - accuracy: 0.6590 - val_loss: 0.7169 - val_accuracy: 0.6752\n",
      "Epoch 11/20\n",
      "241/241 [==============================] - 113s 467ms/step - loss: 0.7458 - accuracy: 0.6719 - val_loss: 0.7050 - val_accuracy: 0.6824\n",
      "Epoch 12/20\n",
      "241/241 [==============================] - 113s 467ms/step - loss: 0.7375 - accuracy: 0.6732 - val_loss: 0.7027 - val_accuracy: 0.6885\n",
      "Epoch 13/20\n",
      "241/241 [==============================] - 113s 467ms/step - loss: 0.7225 - accuracy: 0.6822 - val_loss: 0.6988 - val_accuracy: 0.6865\n",
      "Epoch 14/20\n",
      "241/241 [==============================] - 113s 467ms/step - loss: 0.7202 - accuracy: 0.6781 - val_loss: 0.6879 - val_accuracy: 0.6916\n",
      "Epoch 15/20\n",
      "241/241 [==============================] - 113s 468ms/step - loss: 0.7184 - accuracy: 0.6813 - val_loss: 0.6824 - val_accuracy: 0.6947\n",
      "Epoch 16/20\n",
      "241/241 [==============================] - 113s 467ms/step - loss: 0.7076 - accuracy: 0.6771 - val_loss: 0.6762 - val_accuracy: 0.7049\n",
      "Epoch 17/20\n",
      "241/241 [==============================] - 113s 467ms/step - loss: 0.7087 - accuracy: 0.6955 - val_loss: 0.6737 - val_accuracy: 0.7008\n",
      "Epoch 18/20\n",
      "241/241 [==============================] - 113s 467ms/step - loss: 0.7002 - accuracy: 0.6937 - val_loss: 0.6687 - val_accuracy: 0.7008\n",
      "Epoch 19/20\n",
      "241/241 [==============================] - 113s 467ms/step - loss: 0.6981 - accuracy: 0.6887 - val_loss: 0.6653 - val_accuracy: 0.6947\n",
      "Epoch 20/20\n",
      "241/241 [==============================] - 113s 467ms/step - loss: 0.6979 - accuracy: 0.6926 - val_loss: 0.6590 - val_accuracy: 0.7100\n"
     ]
    }
   ],
   "source": [
    "history = model.fit(train_ds,\n",
    "                   validation_data=val_ds,\n",
    "                   epochs=20)"
   ]
  },
  {
   "cell_type": "code",
   "execution_count": 18,
   "id": "6abe803d",
   "metadata": {
    "execution": {
     "iopub.execute_input": "2021-08-25T08:12:55.156460Z",
     "iopub.status.busy": "2021-08-25T08:12:55.155743Z",
     "iopub.status.idle": "2021-08-25T08:13:24.149744Z",
     "shell.execute_reply": "2021-08-25T08:13:24.150153Z",
     "shell.execute_reply.started": "2021-08-25T07:33:15.081999Z"
    },
    "papermill": {
     "duration": 30.265567,
     "end_time": "2021-08-25T08:13:24.150315",
     "exception": false,
     "start_time": "2021-08-25T08:12:53.884748",
     "status": "completed"
    },
    "tags": []
   },
   "outputs": [],
   "source": [
    "model.save(\"bert-sentiment-model\")"
   ]
  }
 ],
 "metadata": {
  "kernelspec": {
   "display_name": "Python 3",
   "language": "python",
   "name": "python3"
  },
  "language_info": {
   "codemirror_mode": {
    "name": "ipython",
    "version": 3
   },
   "file_extension": ".py",
   "mimetype": "text/x-python",
   "name": "python",
   "nbconvert_exporter": "python",
   "pygments_lexer": "ipython3",
   "version": "3.7.10"
  },
  "papermill": {
   "default_parameters": {},
   "duration": 2337.653779,
   "end_time": "2021-08-25T08:13:28.311820",
   "environment_variables": {},
   "exception": null,
   "input_path": "__notebook__.ipynb",
   "output_path": "__notebook__.ipynb",
   "parameters": {},
   "start_time": "2021-08-25T07:34:30.658041",
   "version": "2.3.3"
  },
  "widgets": {
   "application/vnd.jupyter.widget-state+json": {
    "state": {
     "004e0676258a410d86e09a8db33b4af7": {
      "model_module": "@jupyter-widgets/base",
      "model_module_version": "1.2.0",
      "model_name": "LayoutModel",
      "state": {
       "_model_module": "@jupyter-widgets/base",
       "_model_module_version": "1.2.0",
       "_model_name": "LayoutModel",
       "_view_count": null,
       "_view_module": "@jupyter-widgets/base",
       "_view_module_version": "1.2.0",
       "_view_name": "LayoutView",
       "align_content": null,
       "align_items": null,
       "align_self": null,
       "border": null,
       "bottom": null,
       "display": null,
       "flex": null,
       "flex_flow": null,
       "grid_area": null,
       "grid_auto_columns": null,
       "grid_auto_flow": null,
       "grid_auto_rows": null,
       "grid_column": null,
       "grid_gap": null,
       "grid_row": null,
       "grid_template_areas": null,
       "grid_template_columns": null,
       "grid_template_rows": null,
       "height": null,
       "justify_content": null,
       "justify_items": null,
       "left": null,
       "margin": null,
       "max_height": null,
       "max_width": null,
       "min_height": null,
       "min_width": null,
       "object_fit": null,
       "object_position": null,
       "order": null,
       "overflow": null,
       "overflow_x": null,
       "overflow_y": null,
       "padding": null,
       "right": null,
       "top": null,
       "visibility": null,
       "width": null
      }
     },
     "095c30b228c64896bc6029301154eb33": {
      "model_module": "@jupyter-widgets/base",
      "model_module_version": "1.2.0",
      "model_name": "LayoutModel",
      "state": {
       "_model_module": "@jupyter-widgets/base",
       "_model_module_version": "1.2.0",
       "_model_name": "LayoutModel",
       "_view_count": null,
       "_view_module": "@jupyter-widgets/base",
       "_view_module_version": "1.2.0",
       "_view_name": "LayoutView",
       "align_content": null,
       "align_items": null,
       "align_self": null,
       "border": null,
       "bottom": null,
       "display": null,
       "flex": null,
       "flex_flow": null,
       "grid_area": null,
       "grid_auto_columns": null,
       "grid_auto_flow": null,
       "grid_auto_rows": null,
       "grid_column": null,
       "grid_gap": null,
       "grid_row": null,
       "grid_template_areas": null,
       "grid_template_columns": null,
       "grid_template_rows": null,
       "height": null,
       "justify_content": null,
       "justify_items": null,
       "left": null,
       "margin": null,
       "max_height": null,
       "max_width": null,
       "min_height": null,
       "min_width": null,
       "object_fit": null,
       "object_position": null,
       "order": null,
       "overflow": null,
       "overflow_x": null,
       "overflow_y": null,
       "padding": null,
       "right": null,
       "top": null,
       "visibility": null,
       "width": null
      }
     },
     "1764c8514cea4411b487766e48a2bd4c": {
      "model_module": "@jupyter-widgets/base",
      "model_module_version": "1.2.0",
      "model_name": "LayoutModel",
      "state": {
       "_model_module": "@jupyter-widgets/base",
       "_model_module_version": "1.2.0",
       "_model_name": "LayoutModel",
       "_view_count": null,
       "_view_module": "@jupyter-widgets/base",
       "_view_module_version": "1.2.0",
       "_view_name": "LayoutView",
       "align_content": null,
       "align_items": null,
       "align_self": null,
       "border": null,
       "bottom": null,
       "display": null,
       "flex": null,
       "flex_flow": null,
       "grid_area": null,
       "grid_auto_columns": null,
       "grid_auto_flow": null,
       "grid_auto_rows": null,
       "grid_column": null,
       "grid_gap": null,
       "grid_row": null,
       "grid_template_areas": null,
       "grid_template_columns": null,
       "grid_template_rows": null,
       "height": null,
       "justify_content": null,
       "justify_items": null,
       "left": null,
       "margin": null,
       "max_height": null,
       "max_width": null,
       "min_height": null,
       "min_width": null,
       "object_fit": null,
       "object_position": null,
       "order": null,
       "overflow": null,
       "overflow_x": null,
       "overflow_y": null,
       "padding": null,
       "right": null,
       "top": null,
       "visibility": null,
       "width": null
      }
     },
     "17ddeed131364b5786c5a4e2bc915d46": {
      "model_module": "@jupyter-widgets/controls",
      "model_module_version": "1.5.0",
      "model_name": "DescriptionStyleModel",
      "state": {
       "_model_module": "@jupyter-widgets/controls",
       "_model_module_version": "1.5.0",
       "_model_name": "DescriptionStyleModel",
       "_view_count": null,
       "_view_module": "@jupyter-widgets/base",
       "_view_module_version": "1.2.0",
       "_view_name": "StyleView",
       "description_width": ""
      }
     },
     "1bbe58a8534f4eb3b9938fd8f91ae381": {
      "model_module": "@jupyter-widgets/controls",
      "model_module_version": "1.5.0",
      "model_name": "HTMLModel",
      "state": {
       "_dom_classes": [],
       "_model_module": "@jupyter-widgets/controls",
       "_model_module_version": "1.5.0",
       "_model_name": "HTMLModel",
       "_view_count": null,
       "_view_module": "@jupyter-widgets/controls",
       "_view_module_version": "1.5.0",
       "_view_name": "HTMLView",
       "description": "",
       "description_tooltip": null,
       "layout": "IPY_MODEL_6a392c86929149f7980c407801cf0698",
       "placeholder": "​",
       "style": "IPY_MODEL_3bbb1b401a984222a9a7eabff29b9621",
       "value": "Downloading: 100%"
      }
     },
     "2296fdc46d61485ab674eb80a04140bf": {
      "model_module": "@jupyter-widgets/controls",
      "model_module_version": "1.5.0",
      "model_name": "DescriptionStyleModel",
      "state": {
       "_model_module": "@jupyter-widgets/controls",
       "_model_module_version": "1.5.0",
       "_model_name": "DescriptionStyleModel",
       "_view_count": null,
       "_view_module": "@jupyter-widgets/base",
       "_view_module_version": "1.2.0",
       "_view_name": "StyleView",
       "description_width": ""
      }
     },
     "2830399aa1ce4525ab5cac3df3784b59": {
      "model_module": "@jupyter-widgets/base",
      "model_module_version": "1.2.0",
      "model_name": "LayoutModel",
      "state": {
       "_model_module": "@jupyter-widgets/base",
       "_model_module_version": "1.2.0",
       "_model_name": "LayoutModel",
       "_view_count": null,
       "_view_module": "@jupyter-widgets/base",
       "_view_module_version": "1.2.0",
       "_view_name": "LayoutView",
       "align_content": null,
       "align_items": null,
       "align_self": null,
       "border": null,
       "bottom": null,
       "display": null,
       "flex": null,
       "flex_flow": null,
       "grid_area": null,
       "grid_auto_columns": null,
       "grid_auto_flow": null,
       "grid_auto_rows": null,
       "grid_column": null,
       "grid_gap": null,
       "grid_row": null,
       "grid_template_areas": null,
       "grid_template_columns": null,
       "grid_template_rows": null,
       "height": null,
       "justify_content": null,
       "justify_items": null,
       "left": null,
       "margin": null,
       "max_height": null,
       "max_width": null,
       "min_height": null,
       "min_width": null,
       "object_fit": null,
       "object_position": null,
       "order": null,
       "overflow": null,
       "overflow_x": null,
       "overflow_y": null,
       "padding": null,
       "right": null,
       "top": null,
       "visibility": null,
       "width": null
      }
     },
     "37bf00096cce4005b3d42389ed42512c": {
      "model_module": "@jupyter-widgets/base",
      "model_module_version": "1.2.0",
      "model_name": "LayoutModel",
      "state": {
       "_model_module": "@jupyter-widgets/base",
       "_model_module_version": "1.2.0",
       "_model_name": "LayoutModel",
       "_view_count": null,
       "_view_module": "@jupyter-widgets/base",
       "_view_module_version": "1.2.0",
       "_view_name": "LayoutView",
       "align_content": null,
       "align_items": null,
       "align_self": null,
       "border": null,
       "bottom": null,
       "display": null,
       "flex": null,
       "flex_flow": null,
       "grid_area": null,
       "grid_auto_columns": null,
       "grid_auto_flow": null,
       "grid_auto_rows": null,
       "grid_column": null,
       "grid_gap": null,
       "grid_row": null,
       "grid_template_areas": null,
       "grid_template_columns": null,
       "grid_template_rows": null,
       "height": null,
       "justify_content": null,
       "justify_items": null,
       "left": null,
       "margin": null,
       "max_height": null,
       "max_width": null,
       "min_height": null,
       "min_width": null,
       "object_fit": null,
       "object_position": null,
       "order": null,
       "overflow": null,
       "overflow_x": null,
       "overflow_y": null,
       "padding": null,
       "right": null,
       "top": null,
       "visibility": null,
       "width": null
      }
     },
     "3bbb1b401a984222a9a7eabff29b9621": {
      "model_module": "@jupyter-widgets/controls",
      "model_module_version": "1.5.0",
      "model_name": "DescriptionStyleModel",
      "state": {
       "_model_module": "@jupyter-widgets/controls",
       "_model_module_version": "1.5.0",
       "_model_name": "DescriptionStyleModel",
       "_view_count": null,
       "_view_module": "@jupyter-widgets/base",
       "_view_module_version": "1.2.0",
       "_view_name": "StyleView",
       "description_width": ""
      }
     },
     "49e5222b42924704ad3b1b597f142b2d": {
      "model_module": "@jupyter-widgets/controls",
      "model_module_version": "1.5.0",
      "model_name": "HTMLModel",
      "state": {
       "_dom_classes": [],
       "_model_module": "@jupyter-widgets/controls",
       "_model_module_version": "1.5.0",
       "_model_name": "HTMLModel",
       "_view_count": null,
       "_view_module": "@jupyter-widgets/controls",
       "_view_module_version": "1.5.0",
       "_view_name": "HTMLView",
       "description": "",
       "description_tooltip": null,
       "layout": "IPY_MODEL_d95c0482a5ff4310aa987d2485f6e4e6",
       "placeholder": "​",
       "style": "IPY_MODEL_942a41d989ed4e3b90b26403bde2b476",
       "value": " 527M/527M [00:12&lt;00:00, 45.7MB/s]"
      }
     },
     "4c75668cceb94c91b02d4934e3b68b2c": {
      "model_module": "@jupyter-widgets/base",
      "model_module_version": "1.2.0",
      "model_name": "LayoutModel",
      "state": {
       "_model_module": "@jupyter-widgets/base",
       "_model_module_version": "1.2.0",
       "_model_name": "LayoutModel",
       "_view_count": null,
       "_view_module": "@jupyter-widgets/base",
       "_view_module_version": "1.2.0",
       "_view_name": "LayoutView",
       "align_content": null,
       "align_items": null,
       "align_self": null,
       "border": null,
       "bottom": null,
       "display": null,
       "flex": null,
       "flex_flow": null,
       "grid_area": null,
       "grid_auto_columns": null,
       "grid_auto_flow": null,
       "grid_auto_rows": null,
       "grid_column": null,
       "grid_gap": null,
       "grid_row": null,
       "grid_template_areas": null,
       "grid_template_columns": null,
       "grid_template_rows": null,
       "height": null,
       "justify_content": null,
       "justify_items": null,
       "left": null,
       "margin": null,
       "max_height": null,
       "max_width": null,
       "min_height": null,
       "min_width": null,
       "object_fit": null,
       "object_position": null,
       "order": null,
       "overflow": null,
       "overflow_x": null,
       "overflow_y": null,
       "padding": null,
       "right": null,
       "top": null,
       "visibility": null,
       "width": null
      }
     },
     "6a392c86929149f7980c407801cf0698": {
      "model_module": "@jupyter-widgets/base",
      "model_module_version": "1.2.0",
      "model_name": "LayoutModel",
      "state": {
       "_model_module": "@jupyter-widgets/base",
       "_model_module_version": "1.2.0",
       "_model_name": "LayoutModel",
       "_view_count": null,
       "_view_module": "@jupyter-widgets/base",
       "_view_module_version": "1.2.0",
       "_view_name": "LayoutView",
       "align_content": null,
       "align_items": null,
       "align_self": null,
       "border": null,
       "bottom": null,
       "display": null,
       "flex": null,
       "flex_flow": null,
       "grid_area": null,
       "grid_auto_columns": null,
       "grid_auto_flow": null,
       "grid_auto_rows": null,
       "grid_column": null,
       "grid_gap": null,
       "grid_row": null,
       "grid_template_areas": null,
       "grid_template_columns": null,
       "grid_template_rows": null,
       "height": null,
       "justify_content": null,
       "justify_items": null,
       "left": null,
       "margin": null,
       "max_height": null,
       "max_width": null,
       "min_height": null,
       "min_width": null,
       "object_fit": null,
       "object_position": null,
       "order": null,
       "overflow": null,
       "overflow_x": null,
       "overflow_y": null,
       "padding": null,
       "right": null,
       "top": null,
       "visibility": null,
       "width": null
      }
     },
     "942a41d989ed4e3b90b26403bde2b476": {
      "model_module": "@jupyter-widgets/controls",
      "model_module_version": "1.5.0",
      "model_name": "DescriptionStyleModel",
      "state": {
       "_model_module": "@jupyter-widgets/controls",
       "_model_module_version": "1.5.0",
       "_model_name": "DescriptionStyleModel",
       "_view_count": null,
       "_view_module": "@jupyter-widgets/base",
       "_view_module_version": "1.2.0",
       "_view_name": "StyleView",
       "description_width": ""
      }
     },
     "961b350441b5454fbdd3672ffffb7ca7": {
      "model_module": "@jupyter-widgets/controls",
      "model_module_version": "1.5.0",
      "model_name": "HBoxModel",
      "state": {
       "_dom_classes": [],
       "_model_module": "@jupyter-widgets/controls",
       "_model_module_version": "1.5.0",
       "_model_name": "HBoxModel",
       "_view_count": null,
       "_view_module": "@jupyter-widgets/controls",
       "_view_module_version": "1.5.0",
       "_view_name": "HBoxView",
       "box_style": "",
       "children": [
        "IPY_MODEL_a176122b794649a98dc7b3ff1b0b1a2c",
        "IPY_MODEL_f8166ce316d143cc82f66b3c4aac7036",
        "IPY_MODEL_e765fd631647493d8ecf6be2b2e283ec"
       ],
       "layout": "IPY_MODEL_1764c8514cea4411b487766e48a2bd4c"
      }
     },
     "a176122b794649a98dc7b3ff1b0b1a2c": {
      "model_module": "@jupyter-widgets/controls",
      "model_module_version": "1.5.0",
      "model_name": "HTMLModel",
      "state": {
       "_dom_classes": [],
       "_model_module": "@jupyter-widgets/controls",
       "_model_module_version": "1.5.0",
       "_model_name": "HTMLModel",
       "_view_count": null,
       "_view_module": "@jupyter-widgets/controls",
       "_view_module_version": "1.5.0",
       "_view_name": "HTMLView",
       "description": "",
       "description_tooltip": null,
       "layout": "IPY_MODEL_37bf00096cce4005b3d42389ed42512c",
       "placeholder": "​",
       "style": "IPY_MODEL_2296fdc46d61485ab674eb80a04140bf",
       "value": "Downloading: 100%"
      }
     },
     "bb68d079ae78459789aa6d3b5dc6e25d": {
      "model_module": "@jupyter-widgets/controls",
      "model_module_version": "1.5.0",
      "model_name": "HBoxModel",
      "state": {
       "_dom_classes": [],
       "_model_module": "@jupyter-widgets/controls",
       "_model_module_version": "1.5.0",
       "_model_name": "HBoxModel",
       "_view_count": null,
       "_view_module": "@jupyter-widgets/controls",
       "_view_module_version": "1.5.0",
       "_view_name": "HBoxView",
       "box_style": "",
       "children": [
        "IPY_MODEL_1bbe58a8534f4eb3b9938fd8f91ae381",
        "IPY_MODEL_d39681ba86414633bb734ad5852efd03",
        "IPY_MODEL_49e5222b42924704ad3b1b597f142b2d"
       ],
       "layout": "IPY_MODEL_2830399aa1ce4525ab5cac3df3784b59"
      }
     },
     "d39681ba86414633bb734ad5852efd03": {
      "model_module": "@jupyter-widgets/controls",
      "model_module_version": "1.5.0",
      "model_name": "FloatProgressModel",
      "state": {
       "_dom_classes": [],
       "_model_module": "@jupyter-widgets/controls",
       "_model_module_version": "1.5.0",
       "_model_name": "FloatProgressModel",
       "_view_count": null,
       "_view_module": "@jupyter-widgets/controls",
       "_view_module_version": "1.5.0",
       "_view_name": "ProgressView",
       "bar_style": "success",
       "description": "",
       "description_tooltip": null,
       "layout": "IPY_MODEL_004e0676258a410d86e09a8db33b4af7",
       "max": 526681800.0,
       "min": 0.0,
       "orientation": "horizontal",
       "style": "IPY_MODEL_e4cff544c9c64e5aab8d57102968b6a9",
       "value": 526681800.0
      }
     },
     "d95c0482a5ff4310aa987d2485f6e4e6": {
      "model_module": "@jupyter-widgets/base",
      "model_module_version": "1.2.0",
      "model_name": "LayoutModel",
      "state": {
       "_model_module": "@jupyter-widgets/base",
       "_model_module_version": "1.2.0",
       "_model_name": "LayoutModel",
       "_view_count": null,
       "_view_module": "@jupyter-widgets/base",
       "_view_module_version": "1.2.0",
       "_view_name": "LayoutView",
       "align_content": null,
       "align_items": null,
       "align_self": null,
       "border": null,
       "bottom": null,
       "display": null,
       "flex": null,
       "flex_flow": null,
       "grid_area": null,
       "grid_auto_columns": null,
       "grid_auto_flow": null,
       "grid_auto_rows": null,
       "grid_column": null,
       "grid_gap": null,
       "grid_row": null,
       "grid_template_areas": null,
       "grid_template_columns": null,
       "grid_template_rows": null,
       "height": null,
       "justify_content": null,
       "justify_items": null,
       "left": null,
       "margin": null,
       "max_height": null,
       "max_width": null,
       "min_height": null,
       "min_width": null,
       "object_fit": null,
       "object_position": null,
       "order": null,
       "overflow": null,
       "overflow_x": null,
       "overflow_y": null,
       "padding": null,
       "right": null,
       "top": null,
       "visibility": null,
       "width": null
      }
     },
     "e4cff544c9c64e5aab8d57102968b6a9": {
      "model_module": "@jupyter-widgets/controls",
      "model_module_version": "1.5.0",
      "model_name": "ProgressStyleModel",
      "state": {
       "_model_module": "@jupyter-widgets/controls",
       "_model_module_version": "1.5.0",
       "_model_name": "ProgressStyleModel",
       "_view_count": null,
       "_view_module": "@jupyter-widgets/base",
       "_view_module_version": "1.2.0",
       "_view_name": "StyleView",
       "bar_color": null,
       "description_width": ""
      }
     },
     "e50ea1f59f974ec2ad6e73843ce11b5b": {
      "model_module": "@jupyter-widgets/controls",
      "model_module_version": "1.5.0",
      "model_name": "ProgressStyleModel",
      "state": {
       "_model_module": "@jupyter-widgets/controls",
       "_model_module_version": "1.5.0",
       "_model_name": "ProgressStyleModel",
       "_view_count": null,
       "_view_module": "@jupyter-widgets/base",
       "_view_module_version": "1.2.0",
       "_view_name": "StyleView",
       "bar_color": null,
       "description_width": ""
      }
     },
     "e765fd631647493d8ecf6be2b2e283ec": {
      "model_module": "@jupyter-widgets/controls",
      "model_module_version": "1.5.0",
      "model_name": "HTMLModel",
      "state": {
       "_dom_classes": [],
       "_model_module": "@jupyter-widgets/controls",
       "_model_module_version": "1.5.0",
       "_model_name": "HTMLModel",
       "_view_count": null,
       "_view_module": "@jupyter-widgets/controls",
       "_view_module_version": "1.5.0",
       "_view_name": "HTMLView",
       "description": "",
       "description_tooltip": null,
       "layout": "IPY_MODEL_095c30b228c64896bc6029301154eb33",
       "placeholder": "​",
       "style": "IPY_MODEL_17ddeed131364b5786c5a4e2bc915d46",
       "value": " 570/570 [00:00&lt;00:00, 19.7kB/s]"
      }
     },
     "f8166ce316d143cc82f66b3c4aac7036": {
      "model_module": "@jupyter-widgets/controls",
      "model_module_version": "1.5.0",
      "model_name": "FloatProgressModel",
      "state": {
       "_dom_classes": [],
       "_model_module": "@jupyter-widgets/controls",
       "_model_module_version": "1.5.0",
       "_model_name": "FloatProgressModel",
       "_view_count": null,
       "_view_module": "@jupyter-widgets/controls",
       "_view_module_version": "1.5.0",
       "_view_name": "ProgressView",
       "bar_style": "success",
       "description": "",
       "description_tooltip": null,
       "layout": "IPY_MODEL_4c75668cceb94c91b02d4934e3b68b2c",
       "max": 570.0,
       "min": 0.0,
       "orientation": "horizontal",
       "style": "IPY_MODEL_e50ea1f59f974ec2ad6e73843ce11b5b",
       "value": 570.0
      }
     }
    },
    "version_major": 2,
    "version_minor": 0
   }
  }
 },
 "nbformat": 4,
 "nbformat_minor": 5
}

{
 "cells": [
  {
   "cell_type": "code",
   "execution_count": 1,
   "id": "1c04b94e",
   "metadata": {
    "_cell_guid": "b1076dfc-b9ad-4769-8c92-a6c4dae69d19",
    "_uuid": "8f2839f25d086af736a60e9eeb907d3b93b6e0e5",
    "execution": {
     "iopub.execute_input": "2021-08-24T17:35:41.879213Z",
     "iopub.status.busy": "2021-08-24T17:35:41.878142Z",
     "iopub.status.idle": "2021-08-24T17:35:47.658992Z",
     "shell.execute_reply": "2021-08-24T17:35:47.658187Z",
     "shell.execute_reply.started": "2021-08-24T16:55:23.628653Z"
    },
    "papermill": {
     "duration": 5.79701,
     "end_time": "2021-08-24T17:35:47.659178",
     "exception": false,
     "start_time": "2021-08-24T17:35:41.862168",
     "status": "completed"
    },
    "tags": []
   },
   "outputs": [],
   "source": [
    "import numpy as np\n",
    "import tensorflow as tf"
   ]
  },
  {
   "cell_type": "code",
   "execution_count": 2,
   "id": "ab01d572",
   "metadata": {
    "execution": {
     "iopub.execute_input": "2021-08-24T17:35:47.692110Z",
     "iopub.status.busy": "2021-08-24T17:35:47.691128Z",
     "iopub.status.idle": "2021-08-24T17:35:47.694243Z",
     "shell.execute_reply": "2021-08-24T17:35:47.693713Z",
     "shell.execute_reply.started": "2021-08-24T17:04:38.768245Z"
    },
    "papermill": {
     "duration": 0.021116,
     "end_time": "2021-08-24T17:35:47.694388",
     "exception": false,
     "start_time": "2021-08-24T17:35:47.673272",
     "status": "completed"
    },
    "tags": []
   },
   "outputs": [],
   "source": [
    "def map_func(inp_ids, att_mask, labels):\n",
    "    return {\"input_ids\": inp_ids, \"attention_mask\": att_mask}, labels"
   ]
  },
  {
   "cell_type": "code",
   "execution_count": 3,
   "id": "45d41ba6",
   "metadata": {
    "execution": {
     "iopub.execute_input": "2021-08-24T17:35:47.721104Z",
     "iopub.status.busy": "2021-08-24T17:35:47.720428Z",
     "iopub.status.idle": "2021-08-24T17:35:48.203147Z",
     "shell.execute_reply": "2021-08-24T17:35:48.203672Z",
     "shell.execute_reply.started": "2021-08-24T16:55:29.472892Z"
    },
    "papermill": {
     "duration": 0.497767,
     "end_time": "2021-08-24T17:35:48.203930",
     "exception": false,
     "start_time": "2021-08-24T17:35:47.706163",
     "status": "completed"
    },
    "tags": []
   },
   "outputs": [],
   "source": [
    "with open(\"../input/sentiment-analysis-prep/news-ids.npy\", \"rb\") as f:\n",
    "    ids = np.load(f, allow_pickle=True)\n",
    "with open(\"../input/sentiment-analysis-prep/news-mask.npy\", \"rb\") as f:\n",
    "    mask = np.load(f, allow_pickle=True)\n",
    "with open(\"../input/sentiment-analysis-prep/news-labels.npy\", \"rb\") as f:\n",
    "    labels = np.load(f, allow_pickle=True)"
   ]
  },
  {
   "cell_type": "code",
   "execution_count": 4,
   "id": "cb88fd3b",
   "metadata": {
    "execution": {
     "iopub.execute_input": "2021-08-24T17:35:48.231213Z",
     "iopub.status.busy": "2021-08-24T17:35:48.230572Z",
     "iopub.status.idle": "2021-08-24T17:35:48.237838Z",
     "shell.execute_reply": "2021-08-24T17:35:48.238422Z",
     "shell.execute_reply.started": "2021-08-24T16:55:29.509420Z"
    },
    "papermill": {
     "duration": 0.022523,
     "end_time": "2021-08-24T17:35:48.238592",
     "exception": false,
     "start_time": "2021-08-24T17:35:48.216069",
     "status": "completed"
    },
    "tags": []
   },
   "outputs": [
    {
     "data": {
      "text/plain": [
       "array([[  101,  1792,  1106, ...,     0,     0,     0],\n",
       "       [  101,  7882,  2728, ...,     0,     0,     0],\n",
       "       [  101,  1109,  1835, ...,     0,     0,     0],\n",
       "       ...,\n",
       "       [  101, 20961,  5022, ...,     0,     0,     0],\n",
       "       [  101, 20820,  3813, ...,     0,     0,     0],\n",
       "       [  101, 15689,  1107, ...,     0,     0,     0]])"
      ]
     },
     "execution_count": 4,
     "metadata": {},
     "output_type": "execute_result"
    }
   ],
   "source": [
    "ids"
   ]
  },
  {
   "cell_type": "code",
   "execution_count": 5,
   "id": "0c3f5a45",
   "metadata": {
    "execution": {
     "iopub.execute_input": "2021-08-24T17:35:48.266508Z",
     "iopub.status.busy": "2021-08-24T17:35:48.265884Z",
     "iopub.status.idle": "2021-08-24T17:35:48.270911Z",
     "shell.execute_reply": "2021-08-24T17:35:48.271522Z",
     "shell.execute_reply.started": "2021-08-24T16:55:29.518021Z"
    },
    "papermill": {
     "duration": 0.02064,
     "end_time": "2021-08-24T17:35:48.271703",
     "exception": false,
     "start_time": "2021-08-24T17:35:48.251063",
     "status": "completed"
    },
    "tags": []
   },
   "outputs": [
    {
     "data": {
      "text/plain": [
       "array([[1, 1, 1, ..., 0, 0, 0],\n",
       "       [1, 1, 1, ..., 0, 0, 0],\n",
       "       [1, 1, 1, ..., 0, 0, 0],\n",
       "       ...,\n",
       "       [1, 1, 1, ..., 0, 0, 0],\n",
       "       [1, 1, 1, ..., 0, 0, 0],\n",
       "       [1, 1, 1, ..., 0, 0, 0]])"
      ]
     },
     "execution_count": 5,
     "metadata": {},
     "output_type": "execute_result"
    }
   ],
   "source": [
    "mask"
   ]
  },
  {
   "cell_type": "code",
   "execution_count": 6,
   "id": "2f7a573a",
   "metadata": {
    "execution": {
     "iopub.execute_input": "2021-08-24T17:35:48.299535Z",
     "iopub.status.busy": "2021-08-24T17:35:48.298884Z",
     "iopub.status.idle": "2021-08-24T17:35:48.307166Z",
     "shell.execute_reply": "2021-08-24T17:35:48.306538Z",
     "shell.execute_reply.started": "2021-08-24T16:55:29.534026Z"
    },
    "papermill": {
     "duration": 0.023448,
     "end_time": "2021-08-24T17:35:48.307305",
     "exception": false,
     "start_time": "2021-08-24T17:35:48.283857",
     "status": "completed"
    },
    "tags": []
   },
   "outputs": [
    {
     "data": {
      "text/plain": [
       "array([[0, 1, 0],\n",
       "       [0, 1, 0],\n",
       "       [1, 0, 0],\n",
       "       ...,\n",
       "       [1, 0, 0],\n",
       "       [1, 0, 0],\n",
       "       [1, 0, 0]], dtype=uint8)"
      ]
     },
     "execution_count": 6,
     "metadata": {},
     "output_type": "execute_result"
    }
   ],
   "source": [
    "labels"
   ]
  },
  {
   "cell_type": "code",
   "execution_count": 7,
   "id": "3f0db032",
   "metadata": {
    "execution": {
     "iopub.execute_input": "2021-08-24T17:35:48.344600Z",
     "iopub.status.busy": "2021-08-24T17:35:48.343838Z",
     "iopub.status.idle": "2021-08-24T17:35:48.397244Z",
     "shell.execute_reply": "2021-08-24T17:35:48.397691Z",
     "shell.execute_reply.started": "2021-08-24T16:55:47.682872Z"
    },
    "papermill": {
     "duration": 0.078014,
     "end_time": "2021-08-24T17:35:48.397896",
     "exception": false,
     "start_time": "2021-08-24T17:35:48.319882",
     "status": "completed"
    },
    "tags": []
   },
   "outputs": [],
   "source": [
    "dataset = tf.data.Dataset.from_tensor_slices((ids, mask, labels))"
   ]
  },
  {
   "cell_type": "code",
   "execution_count": 8,
   "id": "99dad96b",
   "metadata": {
    "execution": {
     "iopub.execute_input": "2021-08-24T17:35:48.426460Z",
     "iopub.status.busy": "2021-08-24T17:35:48.425518Z",
     "iopub.status.idle": "2021-08-24T17:35:48.432485Z",
     "shell.execute_reply": "2021-08-24T17:35:48.432912Z",
     "shell.execute_reply.started": "2021-08-24T16:55:50.237469Z"
    },
    "papermill": {
     "duration": 0.022755,
     "end_time": "2021-08-24T17:35:48.433087",
     "exception": false,
     "start_time": "2021-08-24T17:35:48.410332",
     "status": "completed"
    },
    "tags": []
   },
   "outputs": [
    {
     "data": {
      "text/plain": [
       "<TakeDataset shapes: ((512,), (512,), (3,)), types: (tf.int64, tf.int64, tf.uint8)>"
      ]
     },
     "execution_count": 8,
     "metadata": {},
     "output_type": "execute_result"
    }
   ],
   "source": [
    "dataset.take(1)"
   ]
  },
  {
   "cell_type": "code",
   "execution_count": 9,
   "id": "11a34299",
   "metadata": {
    "execution": {
     "iopub.execute_input": "2021-08-24T17:35:48.462396Z",
     "iopub.status.busy": "2021-08-24T17:35:48.461447Z",
     "iopub.status.idle": "2021-08-24T17:35:48.527911Z",
     "shell.execute_reply": "2021-08-24T17:35:48.528358Z",
     "shell.execute_reply.started": "2021-08-24T17:05:20.827735Z"
    },
    "papermill": {
     "duration": 0.082874,
     "end_time": "2021-08-24T17:35:48.528538",
     "exception": false,
     "start_time": "2021-08-24T17:35:48.445664",
     "status": "completed"
    },
    "tags": []
   },
   "outputs": [],
   "source": [
    "dataset = dataset.map(map_func)"
   ]
  },
  {
   "cell_type": "code",
   "execution_count": 10,
   "id": "05083379",
   "metadata": {
    "execution": {
     "iopub.execute_input": "2021-08-24T17:35:48.558743Z",
     "iopub.status.busy": "2021-08-24T17:35:48.557758Z",
     "iopub.status.idle": "2021-08-24T17:35:48.565074Z",
     "shell.execute_reply": "2021-08-24T17:35:48.564437Z",
     "shell.execute_reply.started": "2021-08-24T17:05:23.052289Z"
    },
    "papermill": {
     "duration": 0.023714,
     "end_time": "2021-08-24T17:35:48.565216",
     "exception": false,
     "start_time": "2021-08-24T17:35:48.541502",
     "status": "completed"
    },
    "tags": []
   },
   "outputs": [
    {
     "data": {
      "text/plain": [
       "<TakeDataset shapes: ({input_ids: (512,), attention_mask: (512,)}, (3,)), types: ({input_ids: tf.int64, attention_mask: tf.int64}, tf.uint8)>"
      ]
     },
     "execution_count": 10,
     "metadata": {},
     "output_type": "execute_result"
    }
   ],
   "source": [
    "dataset.take(1)"
   ]
  },
  {
   "cell_type": "code",
   "execution_count": 11,
   "id": "095925a2",
   "metadata": {
    "execution": {
     "iopub.execute_input": "2021-08-24T17:35:48.595316Z",
     "iopub.status.busy": "2021-08-24T17:35:48.594275Z",
     "iopub.status.idle": "2021-08-24T17:35:48.598149Z",
     "shell.execute_reply": "2021-08-24T17:35:48.598644Z",
     "shell.execute_reply.started": "2021-08-24T17:14:56.228092Z"
    },
    "papermill": {
     "duration": 0.020726,
     "end_time": "2021-08-24T17:35:48.598833",
     "exception": false,
     "start_time": "2021-08-24T17:35:48.578107",
     "status": "completed"
    },
    "tags": []
   },
   "outputs": [],
   "source": [
    "batch_size = 16"
   ]
  },
  {
   "cell_type": "code",
   "execution_count": 12,
   "id": "d9bdc290",
   "metadata": {
    "execution": {
     "iopub.execute_input": "2021-08-24T17:35:48.629247Z",
     "iopub.status.busy": "2021-08-24T17:35:48.628204Z",
     "iopub.status.idle": "2021-08-24T17:35:48.640392Z",
     "shell.execute_reply": "2021-08-24T17:35:48.639799Z",
     "shell.execute_reply.started": "2021-08-24T17:14:57.577649Z"
    },
    "papermill": {
     "duration": 0.02844,
     "end_time": "2021-08-24T17:35:48.640535",
     "exception": false,
     "start_time": "2021-08-24T17:35:48.612095",
     "status": "completed"
    },
    "tags": []
   },
   "outputs": [],
   "source": [
    "dataset = dataset.shuffle(10000).batch(batch_size, drop_remainder=True)"
   ]
  },
  {
   "cell_type": "code",
   "execution_count": 13,
   "id": "fa33b9e4",
   "metadata": {
    "execution": {
     "iopub.execute_input": "2021-08-24T17:35:48.672955Z",
     "iopub.status.busy": "2021-08-24T17:35:48.672260Z",
     "iopub.status.idle": "2021-08-24T17:35:48.674785Z",
     "shell.execute_reply": "2021-08-24T17:35:48.675268Z",
     "shell.execute_reply.started": "2021-08-24T17:14:59.912195Z"
    },
    "papermill": {
     "duration": 0.021991,
     "end_time": "2021-08-24T17:35:48.675444",
     "exception": false,
     "start_time": "2021-08-24T17:35:48.653453",
     "status": "completed"
    },
    "tags": []
   },
   "outputs": [
    {
     "data": {
      "text/plain": [
       "<TakeDataset shapes: ({input_ids: (16, 512), attention_mask: (16, 512)}, (16, 3)), types: ({input_ids: tf.int64, attention_mask: tf.int64}, tf.uint8)>"
      ]
     },
     "execution_count": 13,
     "metadata": {},
     "output_type": "execute_result"
    }
   ],
   "source": [
    "dataset.take(1)"
   ]
  },
  {
   "cell_type": "code",
   "execution_count": 14,
   "id": "5c77b1e2",
   "metadata": {
    "execution": {
     "iopub.execute_input": "2021-08-24T17:35:48.706311Z",
     "iopub.status.busy": "2021-08-24T17:35:48.705621Z",
     "iopub.status.idle": "2021-08-24T17:35:48.709011Z",
     "shell.execute_reply": "2021-08-24T17:35:48.709452Z",
     "shell.execute_reply.started": "2021-08-24T17:28:08.363204Z"
    },
    "papermill": {
     "duration": 0.020993,
     "end_time": "2021-08-24T17:35:48.709633",
     "exception": false,
     "start_time": "2021-08-24T17:35:48.688640",
     "status": "completed"
    },
    "tags": []
   },
   "outputs": [],
   "source": [
    "split = 0.8"
   ]
  },
  {
   "cell_type": "code",
   "execution_count": 15,
   "id": "6367e3cd",
   "metadata": {
    "execution": {
     "iopub.execute_input": "2021-08-24T17:35:48.740153Z",
     "iopub.status.busy": "2021-08-24T17:35:48.739514Z",
     "iopub.status.idle": "2021-08-24T17:35:48.744927Z",
     "shell.execute_reply": "2021-08-24T17:35:48.744417Z",
     "shell.execute_reply.started": "2021-08-24T17:28:20.171855Z"
    },
    "papermill": {
     "duration": 0.021231,
     "end_time": "2021-08-24T17:35:48.745079",
     "exception": false,
     "start_time": "2021-08-24T17:35:48.723848",
     "status": "completed"
    },
    "tags": []
   },
   "outputs": [
    {
     "name": "stdout",
     "output_type": "stream",
     "text": [
      "241\n"
     ]
    }
   ],
   "source": [
    "train_size = int((ids.shape[0]/batch_size)*split)\n",
    "print(train_size)"
   ]
  },
  {
   "cell_type": "code",
   "execution_count": 16,
   "id": "a00dcc1e",
   "metadata": {
    "execution": {
     "iopub.execute_input": "2021-08-24T17:35:48.776717Z",
     "iopub.status.busy": "2021-08-24T17:35:48.776125Z",
     "iopub.status.idle": "2021-08-24T17:35:48.779353Z",
     "shell.execute_reply": "2021-08-24T17:35:48.779837Z",
     "shell.execute_reply.started": "2021-08-24T17:29:08.113996Z"
    },
    "papermill": {
     "duration": 0.021424,
     "end_time": "2021-08-24T17:35:48.780023",
     "exception": false,
     "start_time": "2021-08-24T17:35:48.758599",
     "status": "completed"
    },
    "tags": []
   },
   "outputs": [],
   "source": [
    "train_ds = dataset.take(train_size)\n",
    "val_ds = dataset.skip(train_size)"
   ]
  },
  {
   "cell_type": "code",
   "execution_count": 17,
   "id": "82fec691",
   "metadata": {
    "execution": {
     "iopub.execute_input": "2021-08-24T17:35:48.809778Z",
     "iopub.status.busy": "2021-08-24T17:35:48.809192Z",
     "iopub.status.idle": "2021-08-24T17:35:49.085050Z",
     "shell.execute_reply": "2021-08-24T17:35:49.085569Z",
     "shell.execute_reply.started": "2021-08-24T17:30:38.958451Z"
    },
    "papermill": {
     "duration": 0.292329,
     "end_time": "2021-08-24T17:35:49.085745",
     "exception": false,
     "start_time": "2021-08-24T17:35:48.793416",
     "status": "completed"
    },
    "tags": []
   },
   "outputs": [],
   "source": [
    "tf.data.experimental.save(train_ds, \"train\")\n",
    "tf.data.experimental.save(val_ds, \"validation\")"
   ]
  },
  {
   "cell_type": "code",
   "execution_count": 18,
   "id": "58561750",
   "metadata": {
    "execution": {
     "iopub.execute_input": "2021-08-24T17:35:49.116651Z",
     "iopub.status.busy": "2021-08-24T17:35:49.116044Z",
     "iopub.status.idle": "2021-08-24T17:35:49.121997Z",
     "shell.execute_reply": "2021-08-24T17:35:49.122626Z",
     "shell.execute_reply.started": "2021-08-24T17:34:41.118396Z"
    },
    "papermill": {
     "duration": 0.023374,
     "end_time": "2021-08-24T17:35:49.122908",
     "exception": false,
     "start_time": "2021-08-24T17:35:49.099534",
     "status": "completed"
    },
    "tags": []
   },
   "outputs": [
    {
     "name": "stdout",
     "output_type": "stream",
     "text": [
      "True\n",
      "({'input_ids': TensorSpec(shape=(16, 512), dtype=tf.int64, name=None), 'attention_mask': TensorSpec(shape=(16, 512), dtype=tf.int64, name=None)}, TensorSpec(shape=(16, 3), dtype=tf.uint8, name=None))\n"
     ]
    }
   ],
   "source": [
    "print(train_ds.element_spec == val_ds.element_spec)\n",
    "print(train_ds.element_spec)\n",
    "with open(\"element_spec.txt\", \"w\") as f:\n",
    "    f.write(str(train_ds.element_spec))"
   ]
  }
 ],
 "metadata": {
  "kernelspec": {
   "display_name": "Python 3",
   "language": "python",
   "name": "python3"
  },
  "language_info": {
   "codemirror_mode": {
    "name": "ipython",
    "version": 3
   },
   "file_extension": ".py",
   "mimetype": "text/x-python",
   "name": "python",
   "nbconvert_exporter": "python",
   "pygments_lexer": "ipython3",
   "version": "3.7.10"
  },
  "papermill": {
   "default_parameters": {},
   "duration": 16.802577,
   "end_time": "2021-08-24T17:35:51.124648",
   "environment_variables": {},
   "exception": null,
   "input_path": "__notebook__.ipynb",
   "output_path": "__notebook__.ipynb",
   "parameters": {},
   "start_time": "2021-08-24T17:35:34.322071",
   "version": "2.3.3"
  }
 },
 "nbformat": 4,
 "nbformat_minor": 5
}
